{
 "cells": [
  {
   "cell_type": "code",
   "execution_count": 1,
   "metadata": {},
   "outputs": [
    {
     "name": "stdout",
     "output_type": "stream",
     "text": [
      "Email is =  ['rahulraj.rajj33@codeaslyum.com', 'betwa@beti.com', 'boooom.@boom.com'] \n",
      "Number is =  []\n"
     ]
    }
   ],
   "source": [
    "from pdfminer.pdfinterp import PDFResourceManager, PDFPageInterpreter#process_pdf\n",
    "from pdfminer.pdfpage import PDFPage\n",
    "from pdfminer.converter import TextConverter\n",
    "from pdfminer.layout import LAParams\n",
    "from io import StringIO\n",
    "import re\n",
    "\n",
    "def pdf_to_text(pdfname):\n",
    "\n",
    "    # PDFMiner boilerplate\n",
    "    rsrcmgr = PDFResourceManager()\n",
    "    sio = StringIO()\n",
    "#     codec = 'utf-8'  # not used anywhere in the program\n",
    "    laparams = LAParams()  #used for giving the layout only nothing else\n",
    "    device = TextConverter(rsrcmgr, sio, laparams=laparams) \n",
    "    interpreter = PDFPageInterpreter(rsrcmgr, device) # processs the text\n",
    "\n",
    "    # Extract text\n",
    "    fp= open(pdfname, 'rb')\n",
    "    for page in PDFPage.get_pages(fp):\n",
    "        interpreter.process_page(page)\n",
    "    fp.close()\n",
    "\n",
    "    # Get text from StringIO\n",
    "    text = sio.getvalue()\n",
    "\n",
    "    # Cleanup\n",
    "    device.close()\n",
    "    sio.close()\n",
    "\n",
    "    return text\n",
    "\n",
    "text = pdf_to_text(\"C:\\\\Users\\\\RAHUL\\\\Desktop\\\\newchk.pdf\")\n",
    "# print(text)\n",
    "\n",
    "ls=list(re.split(\"\\s\",text))\n",
    "newlist=[]\n",
    "\n",
    "for i in range(len(ls)):\n",
    "    if(len(ls[i])>1):\n",
    "        newlist.append(ls[i])\n",
    "substring=\".com\"\n",
    "email=[]\n",
    "number=[]\n",
    "for i in range(0,len(newlist)):\n",
    "    if(re.search(substring,newlist[i])):\n",
    "        if(len(list(newlist[i].split('@')))>=2):\n",
    "            if(newlist[i][len(newlist[i])-1]!='m'):\n",
    "                newlist[i]=newlist[i][:-1]\n",
    "            email.append(newlist[i])\n",
    "    if(newlist[i][1:].isdigit() and len(newlist[i][1:])>=10 and len(newlist[i][1:])<13):\n",
    "        number.append(newlist[i])\n",
    "    if(newlist[i].isdigit() and len(newlist[i])==10):\n",
    "        number.append(newlist[i])\n",
    "        \n",
    "print(\"Email is = \",email,\"\\nNumber is = \",number)"
   ]
  },
  {
   "cell_type": "code",
   "execution_count": null,
   "metadata": {},
   "outputs": [],
   "source": []
  }
 ],
 "metadata": {
  "kernelspec": {
   "display_name": "Python 3",
   "language": "python",
   "name": "python3"
  },
  "language_info": {
   "codemirror_mode": {
    "name": "ipython",
    "version": 3
   },
   "file_extension": ".py",
   "mimetype": "text/x-python",
   "name": "python",
   "nbconvert_exporter": "python",
   "pygments_lexer": "ipython3",
   "version": "3.6.8"
  }
 },
 "nbformat": 4,
 "nbformat_minor": 2
}
